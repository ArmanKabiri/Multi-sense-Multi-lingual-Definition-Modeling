{
 "cells": [
  {
   "cell_type": "code",
   "execution_count": 52,
   "metadata": {},
   "outputs": [],
   "source": [
    "import random\n",
    "import nltk"
   ]
  },
  {
   "cell_type": "code",
   "execution_count": 53,
   "metadata": {},
   "outputs": [],
   "source": [
    "URI_SYNSETS = 'wnjpn-synsets.tab'\n",
    "URI_DEFS = 'wnjpn-def.tab'\n",
    "URI_OUTPUT = 'jpn-wordnet-parsed'"
   ]
  },
  {
   "cell_type": "code",
   "execution_count": 2,
   "metadata": {},
   "outputs": [],
   "source": [
    "pos_codes = {'n':'noun', 'v':'verb', 'a':'adj', 'r':'adv'}"
   ]
  },
  {
   "cell_type": "code",
   "execution_count": 5,
   "metadata": {},
   "outputs": [],
   "source": [
    "synsets = dict()\n",
    "with open(URI_SYNSETS) as file:\n",
    "    for line in file:\n",
    "        code, jpn_lemma, *_ = line.split('\\t')\n",
    "        if code in synsets:\n",
    "            synsets[code].append(jpn_lemma)\n",
    "        else:\n",
    "            synsets[code] = [jpn_lemma]"
   ]
  },
  {
   "cell_type": "code",
   "execution_count": 6,
   "metadata": {},
   "outputs": [
    {
     "data": {
      "text/plain": [
       "57239"
      ]
     },
     "execution_count": 6,
     "metadata": {},
     "output_type": "execute_result"
    }
   ],
   "source": [
    "len(synsets)"
   ]
  },
  {
   "cell_type": "code",
   "execution_count": 18,
   "metadata": {},
   "outputs": [],
   "source": [
    "definitions = dict()\n",
    "with open(URI_DEFS) as file:\n",
    "    for line in file:\n",
    "        code,_,_,jpn_def = line.strip().split('\\t')\n",
    "        jpn_def = tokenize_def(jpn_def)\n",
    "        if code in definitions:\n",
    "            definitions[code].append(jpn_def)\n",
    "        else:\n",
    "            definitions[code] = [jpn_def]"
   ]
  },
  {
   "cell_type": "code",
   "execution_count": 19,
   "metadata": {},
   "outputs": [
    {
     "data": {
      "text/plain": [
       "117659"
      ]
     },
     "execution_count": 19,
     "metadata": {},
     "output_type": "execute_result"
    }
   ],
   "source": [
    "len(definitions)"
   ]
  },
  {
   "cell_type": "markdown",
   "metadata": {},
   "source": [
    "#### Notice: I pick only one word of each synset to match with the definition."
   ]
  },
  {
   "cell_type": "code",
   "execution_count": 31,
   "metadata": {},
   "outputs": [],
   "source": [
    "dictionary = dict()\n",
    "c=0\n",
    "for code, jpn_def_list in definitions.items():\n",
    "    try:\n",
    "        words = synsets[code]\n",
    "        picked_word = random.choice(words)\n",
    "\n",
    "        pos = code.split('-')[1]\n",
    "        pos = pos_codes[pos]\n",
    "\n",
    "        for jpn_def in jpn_def_list:\n",
    "\n",
    "            if picked_word in dictionary:\n",
    "                dictionary[picked_word].append((pos,jpn_def))\n",
    "            else:\n",
    "                 dictionary[picked_word] = [(pos,jpn_def)]\n",
    "    except KeyError:\n",
    "        c+=1"
   ]
  },
  {
   "cell_type": "code",
   "execution_count": 33,
   "metadata": {},
   "outputs": [
    {
     "data": {
      "text/plain": [
       "45328"
      ]
     },
     "execution_count": 33,
     "metadata": {},
     "output_type": "execute_result"
    }
   ],
   "source": [
    "len(dictionary)"
   ]
  },
  {
   "cell_type": "code",
   "execution_count": 51,
   "metadata": {},
   "outputs": [],
   "source": [
    "with open(URI_OUTPUT, 'w') as file:\n",
    "    for word, def_list in dictionary.items():\n",
    "        for def_tuple in def_list:\n",
    "            file.write(word+'\\t'+def_tuple[0]+'\\t'+'WordNet'+'\\t'+def_tuple[1]+'\\n')"
   ]
  },
  {
   "cell_type": "code",
   "execution_count": null,
   "metadata": {},
   "outputs": [],
   "source": []
  }
 ],
 "metadata": {
  "kernelspec": {
   "display_name": "python3.7.5",
   "language": "python",
   "name": "python3.7.5"
  },
  "language_info": {
   "codemirror_mode": {
    "name": "ipython",
    "version": 3
   },
   "file_extension": ".py",
   "mimetype": "text/x-python",
   "name": "python",
   "nbconvert_exporter": "python",
   "pygments_lexer": "ipython3",
   "version": "3.7.6"
  }
 },
 "nbformat": 4,
 "nbformat_minor": 2
}
