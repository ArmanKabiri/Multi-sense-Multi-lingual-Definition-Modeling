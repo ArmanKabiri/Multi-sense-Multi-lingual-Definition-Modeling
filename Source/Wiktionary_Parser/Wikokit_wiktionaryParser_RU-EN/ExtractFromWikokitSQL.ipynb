{
 "cells": [
  {
   "cell_type": "code",
   "execution_count": 30,
   "metadata": {},
   "outputs": [],
   "source": [
    "import pymysql\n",
    "from getpass import getpass"
   ]
  },
  {
   "cell_type": "markdown",
   "metadata": {},
   "source": [
    "## Establishing connection"
   ]
  },
  {
   "cell_type": "code",
   "execution_count": 61,
   "metadata": {},
   "outputs": [
    {
     "name": "stdout",
     "output_type": "stream",
     "text": [
      "enter mysql password for root:········\n"
     ]
    }
   ],
   "source": [
    "password = getpass(\"enter mysql password for root:\")\n",
    "database_name = \"ruwikt20160210_parsed\";\n",
    "encoding = \"latin1\";\n",
    "lang_code='ru'\n",
    "output_filePath = f\"wiktionary_Wikokitparsed_{lang_code}.txt\";\n",
    "sqlFile_Path = \"/home/akabiri/Desktop/Wikokit/ruwikt20160210_parsed.sql\";"
   ]
  },
  {
   "cell_type": "code",
   "execution_count": 62,
   "metadata": {},
   "outputs": [],
   "source": [
    "con = pymysql.connect(\"localhost\",\"root\",password,\"test\" )\n",
    "cur = con.cursor()"
   ]
  },
  {
   "cell_type": "markdown",
   "metadata": {},
   "source": [
    "## Loading data to MySql"
   ]
  },
  {
   "cell_type": "code",
   "execution_count": null,
   "metadata": {},
   "outputs": [],
   "source": [
    "cur.execute(f\"CREATE DATABASE {database_name};\")"
   ]
  },
  {
   "cell_type": "code",
   "execution_count": 36,
   "metadata": {},
   "outputs": [],
   "source": [
    "cur.execute(f\"use {database_name};\")\n",
    "cur.execute(f\"SET NAMES '{encoding}'\");\n",
    "cur.execute(f\"SET CHARACTER SET '{encoding}'\");\n",
    "con.commit()"
   ]
  },
  {
   "cell_type": "code",
   "execution_count": null,
   "metadata": {},
   "outputs": [],
   "source": [
    "cur.execute(f\"source {sqlFile_Path};\")\n",
    "con.commit()"
   ]
  },
  {
   "cell_type": "markdown",
   "metadata": {},
   "source": [
    "## Getting Definitions"
   ]
  },
  {
   "cell_type": "code",
   "execution_count": 69,
   "metadata": {},
   "outputs": [
    {
     "name": "stdout",
     "output_type": "stream",
     "text": [
      "Querying the definitions:\n",
      "Writing to File:\n",
      "Done!\n",
      "#words: 166644,\t#definitions:221835,\tratio:1.3311910419817095\n"
     ]
    }
   ],
   "source": [
    "print(\"Querying the definitions:\")\n",
    "cur.execute(f\"use {database_name};\")\n",
    "cur.execute(f\"SET NAMES '{encoding}'\");\n",
    "cur.execute(f\"SET CHARACTER SET '{encoding}'\");\n",
    "cur.execute(f\"select page.page_title,lang.name,part_of_speech.name,wiki_text.text from page,lang_pos,meaning,wiki_text,lang,part_of_speech where lang.code='{lang_code}' and lang_pos.page_id=page.id and lang_pos.lang_id=lang.id and part_of_speech.id=lang_pos.pos_id and meaning.lang_pos_id=lang_pos.id and wiki_text.id=meaning.wiki_text_id;\")\n",
    "rows = cur.fetchall()\n",
    "\n",
    "words = set()\n",
    "\n",
    "print(\"Writing to File:\")\n",
    "with open(output_filePath,'w') as file:\n",
    "    for row in rows:\n",
    "        words.add(row[0])\n",
    "        file.write(f\"{row[0]}\\t{row[2]}\\tWiktionary\\t{row[3]}\\n\")\n",
    "        \n",
    "print(\"Done!\")\n",
    "print(f\"#words: {len(words)},\\t#definitions:{len(rows)},\\tratio:{len(rows)/len(words)}\")"
   ]
  },
  {
   "cell_type": "code",
   "execution_count": null,
   "metadata": {},
   "outputs": [],
   "source": [
    "if con: con.close()"
   ]
  },
  {
   "cell_type": "code",
   "execution_count": null,
   "metadata": {},
   "outputs": [],
   "source": []
  }
 ],
 "metadata": {
  "kernelspec": {
   "display_name": "python3.7.5",
   "language": "python",
   "name": "python3.7.5"
  },
  "language_info": {
   "codemirror_mode": {
    "name": "ipython",
    "version": 3
   },
   "file_extension": ".py",
   "mimetype": "text/x-python",
   "name": "python",
   "nbconvert_exporter": "python",
   "pygments_lexer": "ipython3",
   "version": "3.7.5"
  }
 },
 "nbformat": 4,
 "nbformat_minor": 2
}
