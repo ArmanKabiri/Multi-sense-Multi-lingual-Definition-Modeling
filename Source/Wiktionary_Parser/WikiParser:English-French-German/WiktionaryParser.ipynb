{
 "cells": [
  {
   "cell_type": "markdown",
   "metadata": {},
   "source": [
    "# WIKI-Parser"
   ]
  },
  {
   "cell_type": "code",
   "execution_count": 1,
   "metadata": {},
   "outputs": [],
   "source": [
    "import pandas as pd\n",
    "from tqdm import tqdm\n",
    "import json\n",
    "import re"
   ]
  },
  {
   "cell_type": "code",
   "execution_count": 2,
   "metadata": {},
   "outputs": [],
   "source": [
    "language_code = 'fr'\n",
    "file_path = \"/home/akabiri/arman.kabiri94@gmail.com/NLP_Stuff/DefinitionModeling_Datasets--IG--/French/frWiktionary-wikiparser-raw.json\"\n",
    "reader = pd.read_json(lines=True, chunksize=100000,\n",
    "                       path_or_buf=file_path)"
   ]
  },
  {
   "cell_type": "code",
   "execution_count": 3,
   "metadata": {},
   "outputs": [],
   "source": [
    "pos_codes = {'v':'VERB','n':'NOUN','a':'ADJ','r':'ADV','_':'POS'}"
   ]
  },
  {
   "cell_type": "code",
   "execution_count": null,
   "metadata": {},
   "outputs": [],
   "source": [
    "definitions = {}\n",
    "exceptionRows = []\n",
    "for df in tqdm(reader):\n",
    "    df = df[df['rel']=='definition']\n",
    "    df = df[pd.notnull(df['from'])]\n",
    "    df = df[pd.notnull(df['to'])]\n",
    "\n",
    "    for index, row in df.iterrows():\n",
    "\n",
    "        try:\n",
    "            word = row['from']['text']\n",
    "            wordDef = row['to']['text']\n",
    "            pos = row['from']['pos'] if 'pos' in row['from'] else '_'\n",
    "            pos = pos_codes[pos]\n",
    "            wordDef = pos+'\\t'+'Wiktionary'+'\\t'+wordDef\n",
    "            languages = (row['from']['language'],row['to']['language'])\n",
    "            if wordDef.lower() != word.lower() and languages==(language_code,language_code):\n",
    "                if word in definitions:\n",
    "                    definitions[word].add(wordDef)\n",
    "                else:\n",
    "                    definitions[word]={wordDef}\n",
    "        except Exception as e:\n",
    "            exceptionRows.append(index)\n",
    "            print(f\"one exception occured at index:{index}\")"
   ]
  },
  {
   "cell_type": "code",
   "execution_count": null,
   "metadata": {},
   "outputs": [],
   "source": [
    "len(exceptionRows)"
   ]
  },
  {
   "cell_type": "code",
   "execution_count": null,
   "metadata": {},
   "outputs": [],
   "source": [
    "definitions = {key:list(value) for key,value in definitions.items()}"
   ]
  },
  {
   "cell_type": "code",
   "execution_count": null,
   "metadata": {},
   "outputs": [],
   "source": [
    "len(definitions.keys())"
   ]
  },
  {
   "cell_type": "code",
   "execution_count": null,
   "metadata": {},
   "outputs": [],
   "source": [
    "with open(f\"{language_code}Wiktionary-wikiparser-parsed.txt 'w') as fp:\n",
    "    for word,defSet in definitions.items():\n",
    "        for word_def in defSet:\n",
    "            fp.write(word + '\\t'+ word_def+'\\n')"
   ]
  },
  {
   "cell_type": "markdown",
   "metadata": {},
   "source": [
    "### Word Counter"
   ]
  },
  {
   "cell_type": "code",
   "execution_count": 10,
   "metadata": {},
   "outputs": [],
   "source": [
    "words = set()\n",
    "with open(file_path,'r') as file:\n",
    "        for line in file:\n",
    "            words.add(line.split('\\t')[0])"
   ]
  },
  {
   "cell_type": "code",
   "execution_count": 11,
   "metadata": {},
   "outputs": [
    {
     "data": {
      "text/plain": [
       "16029"
      ]
     },
     "execution_count": 11,
     "metadata": {},
     "output_type": "execute_result"
    }
   ],
   "source": [
    "len(words)"
   ]
  },
  {
   "cell_type": "code",
   "execution_count": null,
   "metadata": {},
   "outputs": [],
   "source": []
  }
 ],
 "metadata": {
  "kernelspec": {
   "display_name": "python3.7.5",
   "language": "python",
   "name": "python3.7.5"
  },
  "language_info": {
   "codemirror_mode": {
    "name": "ipython",
    "version": 3
   },
   "file_extension": ".py",
   "mimetype": "text/x-python",
   "name": "python",
   "nbconvert_exporter": "python",
   "pygments_lexer": "ipython3",
   "version": "3.7.5"
  }
 },
 "nbformat": 4,
 "nbformat_minor": 2
}
