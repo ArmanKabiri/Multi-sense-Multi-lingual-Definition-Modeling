{
 "cells": [
  {
   "cell_type": "code",
   "execution_count": 2,
   "metadata": {},
   "outputs": [],
   "source": [
    "import random"
   ]
  },
  {
   "cell_type": "code",
   "execution_count": 12,
   "metadata": {},
   "outputs": [],
   "source": [
    "URI_INPUT = '/home/akabiri/arman.kabiri94@gmail.com/NLP_Stuff/DefinitionModeling_Datasets--IG--/Greek/Original/wn-data-ell.tab'\n",
    "URI_OUTPUT = '/home/akabiri/arman.kabiri94@gmail.com/NLP_Stuff/DefinitionModeling_Datasets--IG--/Greek/Original/processed-dic-el.txt'"
   ]
  },
  {
   "cell_type": "code",
   "execution_count": 13,
   "metadata": {},
   "outputs": [],
   "source": [
    "pos_codes = {'n':'noun', 'v':'verb', 'a':'adj', 'r':'adv'}"
   ]
  },
  {
   "cell_type": "code",
   "execution_count": 14,
   "metadata": {},
   "outputs": [],
   "source": [
    "dictionary = dict() # word -> [tuple(pos,def)]\n",
    "id2word = dict() # id -> [words]"
   ]
  },
  {
   "cell_type": "markdown",
   "metadata": {},
   "source": [
    "### Building Vocab"
   ]
  },
  {
   "cell_type": "code",
   "execution_count": 15,
   "metadata": {},
   "outputs": [],
   "source": [
    "with open(URI_INPUT) as infile:\n",
    "    for i,line in enumerate (infile):\n",
    "        if i>0:\n",
    "            line = line.strip()\n",
    "            if 'ell:lemma' in line:\n",
    "                parts = line.split('\\t')\n",
    "                idx,pos_code = parts[0].split('-')\n",
    "                word = parts[2]\n",
    "                if idx in id2word:\n",
    "                    id2word[idx].append(word)\n",
    "                else:\n",
    "                    id2word[idx] = [word]"
   ]
  },
  {
   "cell_type": "markdown",
   "metadata": {},
   "source": [
    "### Building Dictionary"
   ]
  },
  {
   "cell_type": "code",
   "execution_count": 19,
   "metadata": {},
   "outputs": [
    {
     "name": "stdout",
     "output_type": "stream",
     "text": [
      "lemma for 07930864 was not found\n",
      "lemma for 07991868 was not found\n",
      "lemma for 07995164 was not found\n",
      "lemma for 07995365 was not found\n",
      "lemma for 00782241 was not found\n",
      "lemma for 00451866 was not found\n",
      "lemma for 07739035 was not found\n",
      "lemma for 07739506 was not found\n",
      "lemma for 01446420 was not found\n",
      "lemma for 13522744 was not found\n",
      "lemma for 01871265 was not found\n",
      "lemma for 01697816 was not found\n",
      "lemma for 01715185 was not found\n",
      "lemma for 01090993 was not found\n",
      "lemma for 01100672 was not found\n",
      "lemma for 01187271 was not found\n",
      "lemma for 01536344 was not found\n",
      "lemma for 10308066 was not found\n",
      "lemma for 09871095 was not found\n",
      "lemma for 10568608 was not found\n",
      "lemma for 03661861 was not found\n",
      "lemma for 03723885 was not found\n",
      "lemma for 02821543 was not found\n",
      "lemma for 03301066 was not found\n",
      "lemma for 04170037 was not found\n",
      "lemma for 02623445 was not found\n",
      "lemma for 02656062 was not found\n",
      "lemma for 02705832 was not found\n",
      "lemma for 02730471 was not found\n",
      "lemma for 02782778 was not found\n",
      "lemma for 03032811 was not found\n",
      "lemma for 03483086 was not found\n",
      "lemma for 04500060 was not found\n",
      "lemma for 01906823 was not found\n",
      "lemma for 04027367 was not found\n",
      "lemma for 04144782 was not found\n",
      "lemma for 04153025 was not found\n",
      "lemma for 02935891 was not found\n",
      "lemma for 13951984 was not found\n",
      "lemma for 14032599 was not found\n",
      "lemma for 14378064 was not found\n",
      "lemma for 14686723 was not found\n",
      "lemma for 00051761 was not found\n",
      "lemma for 00066685 was not found\n",
      "lemma for 00077369 was not found\n",
      "lemma for 14824906 was not found\n",
      "lemma for 14837678 was not found\n",
      "lemma for 14838539 was not found\n",
      "lemma for 14908977 was not found\n",
      "lemma for 04764741 was not found\n",
      "lemma for 05649385 was not found\n",
      "lemma for 05701107 was not found\n",
      "lemma for 06276902 was not found\n",
      "lemma for 05298421 was not found\n",
      "lemma for 05841029 was not found\n",
      "lemma for 04328186 was not found\n",
      "lemma for 06157326 was not found\n",
      "lemma for 03816005 was not found\n",
      "lemma for 03929443 was not found\n",
      "lemma for 00471437 was not found\n",
      "lemma for 02403920 was not found\n",
      "lemma for 02404028 was not found\n",
      "lemma for 00935005 was not found\n",
      "lemma for 00941777 was not found\n"
     ]
    }
   ],
   "source": [
    "with open(URI_INPUT) as infile:\n",
    "    for i,line in enumerate (infile):\n",
    "        if i>0:\n",
    "            line = line.strip()\n",
    "            if 'ell:def' in line:\n",
    "                parts = line.split('\\t')\n",
    "                idx,pos_code = parts[0].split('-')\n",
    "                pos_code = pos_codes[pos_code]\n",
    "                definition = parts[3]\n",
    "                try:\n",
    "                    words_list = id2word[idx]\n",
    "                    for word in words_list:\n",
    "                        if word in dictionary:\n",
    "                            dictionary[word].append(tuple((pos_code,definition)))\n",
    "                        else:\n",
    "                            dictionary[word] = [tuple((pos_code,definition))]\n",
    "                except KeyError:\n",
    "                    print(f\"lemma for {idx} was not found\")"
   ]
  },
  {
   "cell_type": "code",
   "execution_count": null,
   "metadata": {},
   "outputs": [],
   "source": []
  },
  {
   "cell_type": "code",
   "execution_count": 20,
   "metadata": {},
   "outputs": [
    {
     "data": {
      "text/plain": [
       "18224"
      ]
     },
     "execution_count": 20,
     "metadata": {},
     "output_type": "execute_result"
    }
   ],
   "source": [
    "len(dictionary)"
   ]
  },
  {
   "cell_type": "code",
   "execution_count": 21,
   "metadata": {},
   "outputs": [],
   "source": [
    "with open(URI_OUTPUT, 'w') as file:\n",
    "    for word, def_list in dictionary.items():\n",
    "        for def_tuple in def_list:\n",
    "            file.write(word+'\\t'+def_tuple[0]+'\\t'+'WordNet'+'\\t'+def_tuple[1]+'\\n')"
   ]
  },
  {
   "cell_type": "code",
   "execution_count": 34,
   "metadata": {},
   "outputs": [
    {
     "name": "stdout",
     "output_type": "stream",
     "text": [
      "DONE\n"
     ]
    }
   ],
   "source": [
    "print(\"DONE\")"
   ]
  },
  {
   "cell_type": "code",
   "execution_count": null,
   "metadata": {},
   "outputs": [],
   "source": []
  }
 ],
 "metadata": {
  "kernelspec": {
   "display_name": "python3.7.5",
   "language": "python",
   "name": "python3.7.5"
  },
  "language_info": {
   "codemirror_mode": {
    "name": "ipython",
    "version": 3
   },
   "file_extension": ".py",
   "mimetype": "text/x-python",
   "name": "python",
   "nbconvert_exporter": "python",
   "pygments_lexer": "ipython3",
   "version": "3.7.6"
  }
 },
 "nbformat": 4,
 "nbformat_minor": 2
}
