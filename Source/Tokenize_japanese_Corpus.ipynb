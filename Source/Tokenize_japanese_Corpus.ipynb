{
 "cells": [
  {
   "cell_type": "code",
   "execution_count": 1,
   "metadata": {},
   "outputs": [],
   "source": [
    "import JapaneseTokenizer\n",
    "import re\n",
    "from tqdm import tqdm"
   ]
  },
  {
   "cell_type": "code",
   "execution_count": 2,
   "metadata": {},
   "outputs": [],
   "source": [
    "URI_IN_CORPUS = 'PlainText_Corpus.ja.txt'\n",
    "URI_OUT_CORPUS = 'PlainText_Corpus_Tokenized.ja.txt'"
   ]
  },
  {
   "cell_type": "code",
   "execution_count": 3,
   "metadata": {},
   "outputs": [],
   "source": [
    "def read_file_inChunk(inputfile, chunk):\n",
    "    with open(inputfile, 'r') as f:\n",
    "        while True:\n",
    "            buf = f.read(chunk)\n",
    "            if not buf:\n",
    "                break\n",
    "\n",
    "            # make sure we end on a space (word boundary)\n",
    "            while not str.isspace(buf[-1]):\n",
    "                ch = f.read(1)\n",
    "                if not ch:\n",
    "                    break\n",
    "                buf += ch\n",
    "                                  \n",
    "            yield buf\n",
    "        yield '' #handle the scene that the file is empty"
   ]
  },
  {
   "cell_type": "code",
   "execution_count": 4,
   "metadata": {
    "scrolled": true
   },
   "outputs": [
    {
     "name": "stderr",
     "output_type": "stream",
     "text": [
      "19894253it [1:11:14, 4654.44it/s] \n"
     ]
    }
   ],
   "source": [
    "mecab_wrapper = JapaneseTokenizer.MecabWrapper(dictType='ipadic')\n",
    "\n",
    "with open(URI_IN_CORPUS) as inFile, open(URI_OUT_CORPUS,'w') as outFile:\n",
    "    \n",
    "    for line in tqdm(inFile):\n",
    "        if line != '\\n':\n",
    "            output = ' '.join(mecab_wrapper.tokenize(line.strip()).convert_list_object())\n",
    "            output = re.sub('\\s+',' ',output).strip()+'\\n'\n",
    "            outFile.write(output)"
   ]
  },
  {
   "cell_type": "code",
   "execution_count": 5,
   "metadata": {},
   "outputs": [
    {
     "name": "stdout",
     "output_type": "stream",
     "text": [
      "Done. Now, please apply the tokenizer and dictionary builder of AdaGram.\n"
     ]
    }
   ],
   "source": [
    "print('Done. Now, please apply the tokenizer and dictionary builder of AdaGram.')"
   ]
  }
 ],
 "metadata": {
  "kernelspec": {
   "display_name": "python3.7.5",
   "language": "python",
   "name": "python3.7.5"
  },
  "language_info": {
   "codemirror_mode": {
    "name": "ipython",
    "version": 3
   },
   "file_extension": ".py",
   "mimetype": "text/x-python",
   "name": "python",
   "nbconvert_exporter": "python",
   "pygments_lexer": "ipython3",
   "version": "3.7.6"
  }
 },
 "nbformat": 4,
 "nbformat_minor": 2
}
